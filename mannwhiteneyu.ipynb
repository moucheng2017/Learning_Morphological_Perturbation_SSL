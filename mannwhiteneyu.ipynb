{
 "cells": [
  {
   "cell_type": "code",
   "execution_count": 1,
   "metadata": {},
   "outputs": [],
   "source": [
    "import numpy as np\n",
    "from scipy.stats import mannwhitneyu"
   ]
  },
  {
   "cell_type": "code",
   "execution_count": 2,
   "metadata": {},
   "outputs": [
    {
     "data": {
      "text/plain": [
       "MannwhitneyuResult(statistic=0.0, pvalue=9.133589555477501e-05)"
      ]
     },
     "execution_count": 2,
     "metadata": {},
     "output_type": "execute_result"
    }
   ],
   "source": [
    "# a = [75.0, 75.1, 76.56, 76.92, 75.2, 74.62, 76, 77.18, 75.92, 73.95]\n",
    "# sup1\n",
    "a = [74.71,\n",
    "73.37,\n",
    "76.04,\n",
    "76.05,\n",
    "73.98,\n",
    "74.89,\n",
    "76.3,\n",
    "76.38,\n",
    "75.03,\n",
    "71.59]\n",
    "b = [65.22,\n",
    "66.84,\n",
    "68.98,\n",
    "71.12,\n",
    "69.18,\n",
    "69.09,\n",
    "69.82,\n",
    "70.28,\n",
    "70,\n",
    "66.92]\n",
    "mannwhitneyu(a, b)"
   ]
  },
  {
   "cell_type": "code",
   "execution_count": 3,
   "metadata": {},
   "outputs": [
    {
     "data": {
      "text/plain": [
       "MannwhitneyuResult(statistic=21.0, pvalue=0.01550940233319239)"
      ]
     },
     "execution_count": 3,
     "metadata": {},
     "output_type": "execute_result"
    }
   ],
   "source": [
    "# sup2\n",
    "b = [72.3,\n",
    "70,\n",
    "73,\n",
    "75,\n",
    "73,\n",
    "72,\n",
    "74,\n",
    "75,\n",
    "74,\n",
    "72.77]\n",
    "mannwhitneyu(a, b)"
   ]
  },
  {
   "cell_type": "code",
   "execution_count": 4,
   "metadata": {},
   "outputs": [
    {
     "data": {
      "text/plain": [
       "MannwhitneyuResult(statistic=15.0, pvalue=0.004554248199015482)"
      ]
     },
     "execution_count": 4,
     "metadata": {},
     "output_type": "execute_result"
    }
   ],
   "source": [
    "# mta\n",
    "b = [72.28,\n",
    "70.1,\n",
    "74.48,\n",
    "74.9,\n",
    "71,\n",
    "72,\n",
    "73,\n",
    "74,\n",
    "72.2,\n",
    "70.89]\n",
    "mannwhitneyu(a, b)"
   ]
  },
  {
   "cell_type": "code",
   "execution_count": 5,
   "metadata": {},
   "outputs": [
    {
     "data": {
      "text/plain": [
       "MannwhitneyuResult(statistic=5.5, pvalue=0.00043839901482793707)"
      ]
     },
     "execution_count": 5,
     "metadata": {},
     "output_type": "execute_result"
    }
   ],
   "source": [
    "# mt\n",
    "b = [69.5,\n",
    "69.59,\n",
    "71.06,\n",
    "73.37,\n",
    "72.44,\n",
    "70.58,\n",
    "73.07,\n",
    "73.3,\n",
    "72.18,\n",
    "69.74]\n",
    "mannwhitneyu(a, b)"
   ]
  },
  {
   "cell_type": "code",
   "execution_count": 6,
   "metadata": {},
   "outputs": [
    {
     "data": {
      "text/plain": [
       "MannwhitneyuResult(statistic=19.0, pvalue=0.010542735517629005)"
      ]
     },
     "execution_count": 6,
     "metadata": {},
     "output_type": "execute_result"
    }
   ],
   "source": [
    "# fm\n",
    "b = [72,\n",
    "70,\n",
    "73,\n",
    "75,\n",
    "70,\n",
    "72.4,\n",
    "73.4,\n",
    "75.2,\n",
    "74,\n",
    "71.05]\n",
    "mannwhitneyu(a, b)"
   ]
  },
  {
   "cell_type": "code",
   "execution_count": 7,
   "metadata": {},
   "outputs": [
    {
     "data": {
      "text/plain": [
       "MannwhitneyuResult(statistic=11.0, pvalue=0.0018052571561648014)"
      ]
     },
     "execution_count": 7,
     "metadata": {},
     "output_type": "execute_result"
    }
   ],
   "source": [
    "# cct\n",
    "b = [71,\n",
    "68.74,\n",
    "71.87,\n",
    "74.26,\n",
    "71.77,\n",
    "71.61,\n",
    "73.35,\n",
    "74.46,\n",
    "73.05,\n",
    "70.65]\n",
    "mannwhitneyu(a, b)"
   ]
  },
  {
   "cell_type": "code",
   "execution_count": 8,
   "metadata": {},
   "outputs": [
    {
     "data": {
      "text/plain": [
       "MannwhitneyuResult(statistic=12.0, pvalue=0.002293196040126747)"
      ]
     },
     "execution_count": 8,
     "metadata": {},
     "output_type": "execute_result"
    }
   ],
   "source": [
    "# morph\n",
    "b = [72.09,\n",
    "69.4,\n",
    "73.75,\n",
    "74.24,\n",
    "72.22,\n",
    "69.22,\n",
    "72.21,\n",
    "74.6,\n",
    "72.8,\n",
    "70.58]\n",
    "mannwhitneyu(a, b)"
   ]
  },
  {
   "cell_type": "code",
   "execution_count": null,
   "metadata": {},
   "outputs": [],
   "source": []
  }
 ],
 "metadata": {
  "kernelspec": {
   "display_name": "Python 3",
   "language": "python",
   "name": "python3"
  },
  "language_info": {
   "codemirror_mode": {
    "name": "ipython",
    "version": 3
   },
   "file_extension": ".py",
   "mimetype": "text/x-python",
   "name": "python",
   "nbconvert_exporter": "python",
   "pygments_lexer": "ipython3",
   "version": "3.7.3"
  }
 },
 "nbformat": 4,
 "nbformat_minor": 2
}
