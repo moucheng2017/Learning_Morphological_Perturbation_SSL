{
 "cells": [
  {
   "cell_type": "code",
   "execution_count": 11,
   "metadata": {},
   "outputs": [],
   "source": [
    "import torch\n",
    "import torchvision\n",
    "\n",
    "import torch.nn as nn\n",
    "from torch.autograd import Variable\n",
    "\n",
    "import numpy as np\n",
    "\n",
    "def print_model_parm_nums(model):\n",
    "    total = sum([param.nelement() for param in model.parameters()])\n",
    "    print('  + Number of params: %.2fM' % (total / 1e6))"
   ]
  },
  {
   "cell_type": "code",
   "execution_count": 12,
   "metadata": {},
   "outputs": [
    {
     "name": "stdout",
     "output_type": "stream",
     "text": [
      "  + Number of params: 2.54M\n"
     ]
    },
    {
     "name": "stderr",
     "output_type": "stream",
     "text": [
      "/home/moucheng/anaconda3/lib/python3.7/site-packages/torch/serialization.py:493: SourceChangeWarning: source code of class 'torch.nn.modules.fold.Unfold' has changed. you can retrieve the original source code by accessing the object's source attribute or set `torch.nn.Module.dump_patches = True` and use the patch tool to revert the changes.\n",
      "  warnings.warn(msg, SourceChangeWarning)\n"
     ]
    }
   ],
   "source": [
    "path = '/home/moucheng/PhD/MICCAI 2021/models/3s50/Morph_repeat_1_alpha_0.002_lr_2e-05_epoch_40_annealing_down_at_0_beta_0.5_CARVE2014_sparse_3_r176_s50/trained_models'\n",
    "model = 'Morph_repeat_1_alpha_0.002_lr_2e-05_epoch_40_annealing_down_at_0_beta_0.5_CARVE2014_sparse_3_r176_s50_Final.pt'\n",
    "full_path = path + '/' + model\n",
    "print_model_parm_nums(torch.load(full_path))"
   ]
  },
  {
   "cell_type": "code",
   "execution_count": null,
   "metadata": {},
   "outputs": [],
   "source": []
  }
 ],
 "metadata": {
  "kernelspec": {
   "display_name": "Python 3",
   "language": "python",
   "name": "python3"
  },
  "language_info": {
   "codemirror_mode": {
    "name": "ipython",
    "version": 3
   },
   "file_extension": ".py",
   "mimetype": "text/x-python",
   "name": "python",
   "nbconvert_exporter": "python",
   "pygments_lexer": "ipython3",
   "version": "3.7.3"
  }
 },
 "nbformat": 4,
 "nbformat_minor": 2
}
