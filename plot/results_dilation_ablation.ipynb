{
 "cells": [
  {
   "cell_type": "code",
   "execution_count": 189,
   "id": "64f16ecc",
   "metadata": {},
   "outputs": [],
   "source": [
    "import sys\n",
    "import csv\n",
    "sys.path.append(\"..\")\n",
    "\n",
    "import os\n",
    "import argparse\n",
    "import matplotlib.pyplot as plt\n",
    "import numpy as np\n",
    "import torch\n",
    "from torch.autograd import Function\n",
    "from torchvision import models\n",
    "\n",
    "import glob\n",
    "import tifffile as tiff\n",
    "\n",
    "import re \n",
    "\n",
    "import errno\n",
    "import imageio\n",
    "\n",
    "from PIL import Image\n",
    "from torch.utils import data\n",
    "import torch.nn.functional as F\n",
    "import torch.nn as nn"
   ]
  },
  {
   "cell_type": "code",
   "execution_count": 190,
   "id": "4e11c63d",
   "metadata": {},
   "outputs": [],
   "source": [
    "# Dice Jaccard HD ASD\n",
    "\n",
    "path = '/home/moucheng/projects_codes/UA-MT/model_mismatch/w8_output_mismatch.csv'\n",
    "with open(path, mode='r') as infile:\n",
    "    reader = csv.reader(infile)\n",
    "    with open('coors_new.csv', mode='w') as outfile:\n",
    "        writer = csv.writer(outfile)\n",
    "        mydict = {rows[0]:rows[1] for rows in reader}"
   ]
  },
  {
   "cell_type": "code",
   "execution_count": 191,
   "id": "b255826c",
   "metadata": {},
   "outputs": [
    {
     "data": {
      "text/plain": [
       "'[ 0.09160747  0.06707236 34.12350288 14.33184727]'"
      ]
     },
     "execution_count": 191,
     "metadata": {},
     "output_type": "execute_result"
    }
   ],
   "source": [
    "mydict.get('Mismatch_unlabel_c5.0_l1_t0.0_i1000')"
   ]
  },
  {
   "cell_type": "code",
   "execution_count": 192,
   "id": "72643b31",
   "metadata": {},
   "outputs": [],
   "source": [
    "# ablation on dilation:\n",
    "\n",
    "di_12 = {}\n",
    "di_9 = {}\n",
    "di_3 = {}\n",
    "di_6 = {}\n",
    "\n",
    "avg_i = [3000, 4000, 5000]\n",
    "\n",
    "for key, value in mydict.items():\n",
    "    if 'di_12' in key:\n",
    "        iteration_no = key[-4:]\n",
    "        di_12[iteration_no] = value\n",
    "    elif 'di_3' in key:\n",
    "        iteration_no = key[-4:]\n",
    "        di_3[iteration_no] = value\n",
    "    elif 'di_6' in key:\n",
    "        iteration_no = key[-4:]\n",
    "        di_6[iteration_no] = value\n",
    "    elif 'di_9' in key:\n",
    "        iteration_no = key[-4:]\n",
    "        di_9[iteration_no] = value\n",
    "        "
   ]
  },
  {
   "cell_type": "code",
   "execution_count": 193,
   "id": "8bc3981b",
   "metadata": {},
   "outputs": [],
   "source": [
    "# di_12_3000 = re.findall(\"\\d+\\.\\d+\", di_12.get('3000'))\n",
    "# di_12_3000 = [float(i) for i in di_12_3000]\n",
    "\n",
    "# di_12_4000 = re.findall(\"\\d+\\.\\d+\", di_12.get('4000'))\n",
    "# di_12_4000 = [float(i) for i in di_12_4000]\n",
    "\n",
    "# di_12_5000 = re.findall(\"\\d+\\.\\d+\", di_12.get('5000'))\n",
    "# di_12_5000 = [float(i) for i in di_12_5000]\n",
    "\n",
    "# di_12 = [(i+k+j)/3 for i, k, j in zip(di_12_3000, di_12_4000, di_12_5000)]"
   ]
  },
  {
   "cell_type": "code",
   "execution_count": 194,
   "id": "b908fbcf",
   "metadata": {},
   "outputs": [
    {
     "data": {
      "text/plain": [
       "[[0.6397725, 0.48703032, 37.95030485, 13.20678136],\n",
       " [0.65955716, 0.50844878, 33.82755983, 11.21167682],\n",
       " [0.66202999, 0.50879143, 33.21539571, 11.250219],\n",
       " [0.65615141, 0.5003555, 33.85431676, 11.49773192]]"
      ]
     },
     "execution_count": 194,
     "metadata": {},
     "output_type": "execute_result"
    }
   ],
   "source": [
    "di_temp = [[], [], [], []]\n",
    "for i, iteration in enumerate(['2000','3000', '4000', '5000']):\n",
    "    di_temp[i] = re.findall(\"\\d+\\.\\d+\", di_12.get(iteration))\n",
    "    di_temp[i] = [float(i) for i in di_temp[i]]\n",
    "di_12 = [(i+k+j+p)/3 for i, k, j, p in zip(di_temp[0], di_temp[1], di_temp[2], di_temp[3])]\n",
    "di_temp"
   ]
  },
  {
   "cell_type": "code",
   "execution_count": 195,
   "id": "5fccc2dd",
   "metadata": {},
   "outputs": [
    {
     "data": {
      "text/plain": [
       "[[0.69800364, 0.55034725, 26.89430427, 9.11487182],\n",
       " [0.69578657, 0.54561438, 30.93025247, 9.75934978],\n",
       " [0.68899005, 0.5357279, 31.37683211, 10.11199515],\n",
       " [0.65615141, 0.5003555, 33.85431676, 11.49773192]]"
      ]
     },
     "execution_count": 195,
     "metadata": {},
     "output_type": "execute_result"
    }
   ],
   "source": [
    "for i, iteration in enumerate(['3000', '4000', '5000']):\n",
    "    di_temp[i] = re.findall(\"\\d+\\.\\d+\", di_9.get(iteration))\n",
    "    di_temp[i] = [float(i) for i in di_temp[i]]\n",
    "di_9 = [(i+k+j+p)/3 for i, k, j, p in zip(di_temp[0], di_temp[1], di_temp[2], di_temp[3])]\n",
    "di_temp"
   ]
  },
  {
   "cell_type": "code",
   "execution_count": 196,
   "id": "f99c7378",
   "metadata": {},
   "outputs": [
    {
     "data": {
      "text/plain": [
       "[[0.73630505, 0.59256114, 29.74608574, 9.29085036],\n",
       " [0.72837191, 0.58269595, 28.75988082, 9.26603759],\n",
       " [0.71801183, 0.56976511, 30.34551155, 9.85771319],\n",
       " [0.65615141, 0.5003555, 33.85431676, 11.49773192]]"
      ]
     },
     "execution_count": 196,
     "metadata": {},
     "output_type": "execute_result"
    }
   ],
   "source": [
    "for i, iteration in enumerate(['3000', '4000', '5000']):\n",
    "    di_temp[i] = re.findall(\"\\d+\\.\\d+\", di_6.get(iteration))\n",
    "    di_temp[i] = [float(i) for i in di_temp[i]]\n",
    "di_6 = [(i+k+j+p)/3 for i, k, j, p in zip(di_temp[0], di_temp[1], di_temp[2], di_temp[3])]\n",
    "di_temp"
   ]
  },
  {
   "cell_type": "code",
   "execution_count": 197,
   "id": "6d61bced",
   "metadata": {},
   "outputs": [
    {
     "data": {
      "text/plain": [
       "[[0.65712829, 0.50359937, 33.86762567, 11.68421926],\n",
       " [0.66212816, 0.50677462, 34.38468428, 12.10260971],\n",
       " [0.66997386, 0.51309838, 34.61662247, 11.93840968],\n",
       " [0.65615141, 0.5003555, 33.85431676, 11.49773192]]"
      ]
     },
     "execution_count": 197,
     "metadata": {},
     "output_type": "execute_result"
    }
   ],
   "source": [
    "for i, iteration in enumerate(['3000', '4000', '5000']):\n",
    "    di_temp[i] = re.findall(\"\\d+\\.\\d+\", di_3.get(iteration))\n",
    "    di_temp[i] = [float(i) for i in di_temp[i]]\n",
    "di_3 = [(i+k+j+p)/3 for i, k, j, p in zip(di_temp[0], di_temp[1], di_temp[2], di_temp[3])]\n",
    "di_temp"
   ]
  },
  {
   "cell_type": "code",
   "execution_count": 198,
   "id": "822107c9",
   "metadata": {},
   "outputs": [
    {
     "data": {
      "text/plain": [
       "[0.8817939066666667, 0.6746092899999999, 45.574416393333344, 15.74099019]"
      ]
     },
     "execution_count": 198,
     "metadata": {},
     "output_type": "execute_result"
    }
   ],
   "source": [
    "di_3"
   ]
  },
  {
   "cell_type": "code",
   "execution_count": 199,
   "id": "85dc4b2d",
   "metadata": {},
   "outputs": [
    {
     "data": {
      "text/plain": [
       "[0.9462800666666668, 0.7484592333333334, 40.90193162333333, 13.30411102]"
      ]
     },
     "execution_count": 199,
     "metadata": {},
     "output_type": "execute_result"
    }
   ],
   "source": [
    "di_6"
   ]
  },
  {
   "cell_type": "code",
   "execution_count": 200,
   "id": "d9b6b9a1",
   "metadata": {},
   "outputs": [
    {
     "data": {
      "text/plain": [
       "[0.9129772233333334, 0.7106816766666667, 41.01856853666667, 13.494649556666666]"
      ]
     },
     "execution_count": 200,
     "metadata": {},
     "output_type": "execute_result"
    }
   ],
   "source": [
    "di_9"
   ]
  },
  {
   "cell_type": "code",
   "execution_count": 166,
   "id": "c5f25c85",
   "metadata": {},
   "outputs": [
    {
     "data": {
      "text/plain": [
       "[0.6592461866666667, 0.5058652366666667, 33.6324241, 11.319875913333334]"
      ]
     },
     "execution_count": 166,
     "metadata": {},
     "output_type": "execute_result"
    }
   ],
   "source": [
    "di_12"
   ]
  },
  {
   "cell_type": "code",
   "execution_count": null,
   "id": "ed3f0700",
   "metadata": {},
   "outputs": [],
   "source": []
  }
 ],
 "metadata": {
  "kernelspec": {
   "display_name": "Python [conda env:pytorch1.4] *",
   "language": "python",
   "name": "conda-env-pytorch1.4-py"
  },
  "language_info": {
   "codemirror_mode": {
    "name": "ipython",
    "version": 3
   },
   "file_extension": ".py",
   "mimetype": "text/x-python",
   "name": "python",
   "nbconvert_exporter": "python",
   "pygments_lexer": "ipython3",
   "version": "3.9.10"
  }
 },
 "nbformat": 4,
 "nbformat_minor": 5
}
