{
 "cells": [
  {
   "cell_type": "code",
   "execution_count": 151,
   "id": "6a817e1c",
   "metadata": {},
   "outputs": [],
   "source": [
    "import sys\n",
    "import csv\n",
    "sys.path.append(\"..\")\n",
    "\n",
    "import os\n",
    "import argparse\n",
    "import matplotlib.pyplot as plt\n",
    "import numpy as np\n",
    "import torch\n",
    "from torch.autograd import Function\n",
    "from torchvision import models\n",
    "\n",
    "import glob\n",
    "import tifffile as tiff\n",
    "\n",
    "import re \n",
    "\n",
    "import errno\n",
    "import imageio\n",
    "\n",
    "from PIL import Image\n",
    "from torch.utils import data\n",
    "import torch.nn.functional as F\n",
    "import torch.nn as nn"
   ]
  },
  {
   "cell_type": "code",
   "execution_count": 152,
   "id": "166b9387",
   "metadata": {},
   "outputs": [],
   "source": [
    "# Dice Jaccard HD ASD\n",
    "\n",
    "path = '/home/moucheng/projects_codes/UA-MT/model_mismatch/w8_output_mismatch.csv'\n",
    "with open(path, mode='r') as infile:\n",
    "    reader = csv.reader(infile)\n",
    "    with open('coors_new.csv', mode='w') as outfile:\n",
    "        writer = csv.writer(outfile)\n",
    "        mydict = {rows[0]:rows[1] for rows in reader}"
   ]
  },
  {
   "cell_type": "code",
   "execution_count": 153,
   "id": "3c383d4f",
   "metadata": {},
   "outputs": [
    {
     "data": {
      "text/plain": [
       "'[ 0.09160747  0.06707236 34.12350288 14.33184727]'"
      ]
     },
     "execution_count": 153,
     "metadata": {},
     "output_type": "execute_result"
    }
   ],
   "source": [
    "mydict.get('Mismatch_unlabel_c5.0_l1_t0.0_i1000')"
   ]
  },
  {
   "cell_type": "code",
   "execution_count": 154,
   "id": "8ac2de34",
   "metadata": {},
   "outputs": [],
   "source": [
    "# ablation on dilation:\n",
    "\n",
    "di_12 = {}\n",
    "di_9 = {}\n",
    "di_3 = {}\n",
    "di_6 = {}\n",
    "\n",
    "avg_i = [3000, 4000, 5000]\n",
    "\n",
    "for key, value in mydict.items():\n",
    "    if 'di_12' in key:\n",
    "        iteration_no = key[-4:]\n",
    "        di_12[iteration_no] = value\n",
    "    elif 'di_3' in key:\n",
    "        iteration_no = key[-4:]\n",
    "        di_3[iteration_no] = value\n",
    "    elif 'di_6' in key:\n",
    "        iteration_no = key[-4:]\n",
    "        di_6[iteration_no] = value\n",
    "    elif 'di_9' in key:\n",
    "        iteration_no = key[-4:]\n",
    "        di_9[iteration_no] = value\n",
    "        "
   ]
  },
  {
   "cell_type": "code",
   "execution_count": 155,
   "id": "0514c835",
   "metadata": {},
   "outputs": [],
   "source": [
    "# di_12_3000 = re.findall(\"\\d+\\.\\d+\", di_12.get('3000'))\n",
    "# di_12_3000 = [float(i) for i in di_12_3000]\n",
    "\n",
    "# di_12_4000 = re.findall(\"\\d+\\.\\d+\", di_12.get('4000'))\n",
    "# di_12_4000 = [float(i) for i in di_12_4000]\n",
    "\n",
    "# di_12_5000 = re.findall(\"\\d+\\.\\d+\", di_12.get('5000'))\n",
    "# di_12_5000 = [float(i) for i in di_12_5000]\n",
    "\n",
    "# di_12 = [(i+k+j)/3 for i, k, j in zip(di_12_3000, di_12_4000, di_12_5000)]"
   ]
  },
  {
   "cell_type": "code",
   "execution_count": 156,
   "id": "f31028df",
   "metadata": {},
   "outputs": [],
   "source": [
    "di_temp = [[], [], []]\n",
    "for i, iteration in enumerate(['3000', '4000', '5000']):\n",
    "    di_temp[i] = re.findall(\"\\d+\\.\\d+\", di_12.get(iteration))\n",
    "    di_temp[i] = [float(i) for i in di_temp[i]]\n",
    "di_12 = [(i+k+j)/3 for i, k, j in zip(di_temp[0], di_temp[1], di_temp[2])]"
   ]
  },
  {
   "cell_type": "code",
   "execution_count": 157,
   "id": "d5de49b3",
   "metadata": {},
   "outputs": [],
   "source": [
    "for i, iteration in enumerate(['3000', '4000', '5000']):\n",
    "    di_temp[i] = re.findall(\"\\d+\\.\\d+\", di_9.get(iteration))\n",
    "    di_temp[i] = [float(i) for i in di_temp[i]]\n",
    "di_9 = [(i+k+j)/3 for i, k, j in zip(di_temp[0], di_temp[1], di_temp[2])]"
   ]
  },
  {
   "cell_type": "code",
   "execution_count": 158,
   "id": "f107cecd",
   "metadata": {},
   "outputs": [],
   "source": [
    "for i, iteration in enumerate(['3000', '4000', '5000']):\n",
    "    di_temp[i] = re.findall(\"\\d+\\.\\d+\", di_6.get(iteration))\n",
    "    di_temp[i] = [float(i) for i in di_temp[i]]\n",
    "di_6 = [(i+k+j)/3 for i, k, j in zip(di_temp[0], di_temp[1], di_temp[2])]"
   ]
  },
  {
   "cell_type": "code",
   "execution_count": 159,
   "id": "8c876a2a",
   "metadata": {},
   "outputs": [],
   "source": [
    "for i, iteration in enumerate(['3000', '4000', '5000']):\n",
    "    di_temp[i] = re.findall(\"\\d+\\.\\d+\", di_3.get(iteration))\n",
    "    di_temp[i] = [float(i) for i in di_temp[i]]\n",
    "di_3 = [(i+k+j)/3 for i, k, j in zip(di_temp[0], di_temp[1], di_temp[2])]"
   ]
  },
  {
   "cell_type": "code",
   "execution_count": 163,
   "id": "8684a769",
   "metadata": {},
   "outputs": [
    {
     "data": {
      "text/plain": [
       "[0.66307677, 0.5078241233333333, 34.28964414000001, 11.908412883333334]"
      ]
     },
     "execution_count": 163,
     "metadata": {},
     "output_type": "execute_result"
    }
   ],
   "source": [
    "di_3"
   ]
  },
  {
   "cell_type": "code",
   "execution_count": 164,
   "id": "a54023ee",
   "metadata": {},
   "outputs": [
    {
     "data": {
      "text/plain": [
       "[0.72756293, 0.5816740666666668, 29.61715937, 9.471533713333335]"
      ]
     },
     "execution_count": 164,
     "metadata": {},
     "output_type": "execute_result"
    }
   ],
   "source": [
    "di_6"
   ]
  },
  {
   "cell_type": "code",
   "execution_count": 165,
   "id": "2977f26e",
   "metadata": {},
   "outputs": [
    {
     "data": {
      "text/plain": [
       "[0.6942600866666667, 0.54389651, 29.733796283333334, 9.66207225]"
      ]
     },
     "execution_count": 165,
     "metadata": {},
     "output_type": "execute_result"
    }
   ],
   "source": [
    "di_9"
   ]
  },
  {
   "cell_type": "code",
   "execution_count": 166,
   "id": "4187673d",
   "metadata": {},
   "outputs": [
    {
     "data": {
      "text/plain": [
       "[0.6592461866666667, 0.5058652366666667, 33.6324241, 11.319875913333334]"
      ]
     },
     "execution_count": 166,
     "metadata": {},
     "output_type": "execute_result"
    }
   ],
   "source": [
    "di_12"
   ]
  },
  {
   "cell_type": "code",
   "execution_count": null,
   "id": "28c85d2a",
   "metadata": {},
   "outputs": [],
   "source": []
  }
 ],
 "metadata": {
  "kernelspec": {
   "display_name": "Python [conda env:pytorch1.4] *",
   "language": "python",
   "name": "conda-env-pytorch1.4-py"
  },
  "language_info": {
   "codemirror_mode": {
    "name": "ipython",
    "version": 3
   },
   "file_extension": ".py",
   "mimetype": "text/x-python",
   "name": "python",
   "nbconvert_exporter": "python",
   "pygments_lexer": "ipython3",
   "version": "3.9.10"
  }
 },
 "nbformat": 4,
 "nbformat_minor": 5
}
