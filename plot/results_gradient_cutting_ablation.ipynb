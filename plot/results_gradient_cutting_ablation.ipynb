{
 "cells": [
  {
   "cell_type": "code",
   "execution_count": 21,
   "metadata": {},
   "outputs": [],
   "source": [
    "import sys\n",
    "import csv\n",
    "sys.path.append(\"..\")\n",
    "\n",
    "import os\n",
    "import argparse\n",
    "import matplotlib.pyplot as plt\n",
    "import numpy as np\n",
    "import torch\n",
    "from torch.autograd import Function\n",
    "from torchvision import models\n",
    "\n",
    "import glob\n",
    "\n",
    "import re \n",
    "\n",
    "import errno\n",
    "import imageio\n",
    "\n",
    "from PIL import Image\n",
    "from torch.utils import data\n",
    "import torch.nn.functional as F\n",
    "import torch.nn as nn"
   ]
  },
  {
   "cell_type": "code",
   "execution_count": 22,
   "metadata": {},
   "outputs": [],
   "source": [
    "# Dice Jaccard HD ASD\n",
    "\n",
    "path = '/home/xmc/Desktop/w8_output_mismatch.csv'\n",
    "with open(path, mode='r') as infile:\n",
    "    reader = csv.reader(infile)\n",
    "    with open('coors_new.csv', mode='w') as outfile:\n",
    "        writer = csv.writer(outfile)\n",
    "        mydict = {rows[0]:rows[1] for rows in reader}"
   ]
  },
  {
   "cell_type": "code",
   "execution_count": 23,
   "metadata": {},
   "outputs": [
    {
     "data": {
      "text/plain": [
       "'[ 0.09160747  0.06707236 34.12350288 14.33184727]'"
      ]
     },
     "execution_count": 23,
     "metadata": {},
     "output_type": "execute_result"
    }
   ],
   "source": [
    "mydict.get('Mismatch_unlabel_c5.0_l1_t0.0_i1000')"
   ]
  },
  {
   "cell_type": "code",
   "execution_count": 24,
   "metadata": {},
   "outputs": [],
   "source": [
    "# ablation on dilation:\n",
    "\n",
    "no_gradient= {}\n",
    "gradient= {}\n",
    "\n",
    "avg_i = [3000, 4000, 5000]\n",
    "\n",
    "for key, value in mydict.items():\n",
    "    if 'True' in key:\n",
    "        iteration_no = key[-4:]\n",
    "        no_gradient[iteration_no] = value\n",
    "    elif 'False' in key:\n",
    "        iteration_no = key[-4:]\n",
    "        gradient[iteration_no] = value"
   ]
  },
  {
   "cell_type": "code",
   "execution_count": 25,
   "metadata": {},
   "outputs": [
    {
     "data": {
      "text/plain": [
       "[[0.68962944, 0.54048327, 30.43911365, 10.26361259],\n",
       " [0.71486972, 0.56934847, 30.0499912, 10.03287077],\n",
       " [0.70903755, 0.56218371, 30.38366907, 10.31930026],\n",
       " [0.70578234, 0.55633081, 32.5948105, 10.49445218]]"
      ]
     },
     "execution_count": 25,
     "metadata": {},
     "output_type": "execute_result"
    }
   ],
   "source": [
    "temp = [[], [], [], []]\n",
    "for i, iteration in enumerate(['2000','3000', '4000', '5000']):\n",
    "    temp[i] = re.findall(\"\\d+\\.\\d+\", no_gradient.get(iteration))\n",
    "    temp[i] = [float(i) for i in temp[i]]\n",
    "no_gradient = [(i+k+j+p)/3 for i, k, j, p in zip(temp[0], temp[1], temp[2], temp[3])]\n",
    "temp"
   ]
  },
  {
   "cell_type": "code",
   "execution_count": 26,
   "metadata": {},
   "outputs": [
    {
     "data": {
      "text/plain": [
       "[[0.67176705, 0.51950876, 29.39801443, 9.47584923],\n",
       " [0.69447551, 0.54565122, 25.49831408, 8.06957673],\n",
       " [0.69528463, 0.54431341, 25.63429696, 7.98240805],\n",
       " [0.68375999, 0.52923743, 26.68553315, 8.17343376]]"
      ]
     },
     "execution_count": 26,
     "metadata": {},
     "output_type": "execute_result"
    }
   ],
   "source": [
    "for i, iteration in enumerate(['2000','3000', '4000', '5000']):\n",
    "    temp[i] = re.findall(\"\\d+\\.\\d+\", gradient.get(iteration))\n",
    "    temp[i] = [float(i) for i in temp[i]]\n",
    "no_gradient = [(i+k+j+p)/3 for i, k, j, p in zip(temp[0], temp[1], temp[2], temp[3])]\n",
    "temp"
   ]
  },
  {
   "cell_type": "code",
   "execution_count": null,
   "metadata": {},
   "outputs": [],
   "source": []
  }
 ],
 "metadata": {
  "kernelspec": {
   "display_name": "Python 3",
   "language": "python",
   "name": "python3"
  },
  "language_info": {
   "codemirror_mode": {
    "name": "ipython",
    "version": 3
   },
   "file_extension": ".py",
   "mimetype": "text/x-python",
   "name": "python",
   "nbconvert_exporter": "python",
   "pygments_lexer": "ipython3",
   "version": "3.7.1"
  }
 },
 "nbformat": 4,
 "nbformat_minor": 5
}
